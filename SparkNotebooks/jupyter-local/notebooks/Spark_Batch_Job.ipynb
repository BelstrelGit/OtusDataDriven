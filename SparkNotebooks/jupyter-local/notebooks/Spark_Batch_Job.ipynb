{
 "cells": [
  {
   "cell_type": "code",
   "execution_count": 1,
   "metadata": {},
   "outputs": [
    {
     "data": {
      "text/plain": [
       "Name: Unknown Error\n",
       "Message: <console>:111: error: not found: value NotebookSparkSession\n",
       "         NotebookSparkSession.builder()\n",
       "         ^\n",
       "<console>:103: error: not found: value $ivy\n",
       "       import $ivy.`org.apache.spark::spark-sql:2.4.0`\n",
       "              ^\n",
       "\n",
       "StackTrace: "
      ]
     },
     "execution_count": 1,
     "metadata": {},
     "output_type": "execute_result"
    }
   ],
   "source": [
    "import $ivy.`org.apache.spark::spark-sql:2.4.0`\n",
    "\n",
    "import org.apache.log4j.{Level, Logger}\n",
    "Logger.getLogger(\"org\").setLevel(Level.OFF)\n",
    "\n",
    "import org.apache.spark.sql._\n",
    "\n",
    "val spark = {\n",
    "  NotebookSparkSession.builder()\n",
    "    .config(\"spark.sql.autoBroadcastJoinThreshold\", 0)\n",
    "    .master(\"local[*]\")\n",
    "    .getOrCreate()\n",
    "}\n",
    "\n",
    "def sc = spark.sparkContext"
   ]
  },
  {
   "cell_type": "code",
   "execution_count": 2,
   "metadata": {},
   "outputs": [
    {
     "data": {
      "text/plain": [
       "accum = LongAccumulator(id: 917, name: Some(My Accumulator), value: 10)\n"
      ]
     },
     "metadata": {},
     "output_type": "display_data"
    },
    {
     "data": {
      "text/plain": [
       "10"
      ]
     },
     "execution_count": 2,
     "metadata": {},
     "output_type": "execute_result"
    }
   ],
   "source": [
    "val accum = sc.longAccumulator(\"My Accumulator\")\n",
    "\n",
    "sc.parallelize(Array(1, 2, 3, 4)).foreach(x => accum.add(x))\n",
    "\n",
    "accum.value"
   ]
  },
  {
   "cell_type": "code",
   "execution_count": 3,
   "metadata": {},
   "outputs": [
    {
     "data": {
      "text/plain": [
       "Name: org.apache.spark.sql.AnalysisException\n",
       "Message: Path does not exist: file:/home/jovyan/work/crime.csv;\n",
       "StackTrace:   at org.apache.spark.sql.execution.datasources.DataSource$$anonfun$org$apache$spark$sql$execution$datasources$DataSource$$checkAndGlobPathIfNecessary$1.apply(DataSource.scala:558)\n",
       "  at org.apache.spark.sql.execution.datasources.DataSource$$anonfun$org$apache$spark$sql$execution$datasources$DataSource$$checkAndGlobPathIfNecessary$1.apply(DataSource.scala:545)\n",
       "  at scala.collection.TraversableLike$$anonfun$flatMap$1.apply(TraversableLike.scala:241)\n",
       "  at scala.collection.TraversableLike$$anonfun$flatMap$1.apply(TraversableLike.scala:241)\n",
       "  at scala.collection.immutable.List.foreach(List.scala:392)\n",
       "  at scala.collection.TraversableLike$class.flatMap(TraversableLike.scala:241)\n",
       "  at scala.collection.immutable.List.flatMap(List.scala:355)\n",
       "  at org.apache.spark.sql.execution.datasources.DataSource.org$apache$spark$sql$execution$datasources$DataSource$$checkAndGlobPathIfNecessary(DataSource.scala:545)\n",
       "  at org.apache.spark.sql.execution.datasources.DataSource.resolveRelation(DataSource.scala:359)\n",
       "  at org.apache.spark.sql.DataFrameReader.loadV1Source(DataFrameReader.scala:223)\n",
       "  at org.apache.spark.sql.DataFrameReader.load(DataFrameReader.scala:211)\n",
       "  at org.apache.spark.sql.DataFrameReader.csv(DataFrameReader.scala:615)\n",
       "  at org.apache.spark.sql.DataFrameReader.csv(DataFrameReader.scala:467)"
      ]
     },
     "execution_count": 3,
     "metadata": {},
     "output_type": "execute_result"
    }
   ],
   "source": [
    "// val crimeFacts = spark\n",
    "//     .read\n",
    "//     .option(\"header\", \"true\")\n",
    "//     .option(\"inferSchema\", \"true\")\n",
    "//     .csv(\"crime.csv\")\n",
    "\n",
    "// crimeFacts.show"
   ]
  },
  {
   "cell_type": "code",
   "execution_count": 34,
   "metadata": {
    "scrolled": true
   },
   "outputs": [
    {
     "name": "stdout",
     "output_type": "stream",
     "text": [
      "+------+---------+---------+------------+\n",
      "|symbol|  minimum|  maximum|   max_value|\n",
      "+------+---------+---------+------------+\n",
      "|   BAC|     5.11|    23.16| 8.5964339E8|\n",
      "|    VZ|    26.12|    56.53| 6.1662048E8|\n",
      "|  CSCO|    13.93|    31.87| 5.6004019E8|\n",
      "|     F|     8.99|    18.79|4.80879488E8|\n",
      "|  AAPL|     90.0|702.10004|4.70249504E8|\n",
      "|    GM|    19.02|    41.53|4.57044288E8|\n",
      "|  LVLT|     0.85|     57.2|4.44994208E8|\n",
      "|   HPQ|     9.09|54.519997|4.42012288E8|\n",
      "|    GE|    13.99|    32.93|4.31332608E8|\n",
      "|    FB|    22.99|   133.28|3.65457888E8|\n",
      "|     C|     3.17|    61.09|3.26782912E8|\n",
      "|   AIG|    19.96|     66.7|  3.225104E8|\n",
      "|  MSFT|    23.09|    63.62|3.19317888E8|\n",
      "|  NFLX|    48.72|   707.61|3.15541792E8|\n",
      "|   PFE|    14.22|    37.31|2.84468096E8|\n",
      "|   MRO|     6.75|54.170124|2.73996608E8|\n",
      "|   KMI|    12.05|    44.57|  2.515288E8|\n",
      "|   BSX|     5.02|    24.48|   2.43874E8|\n",
      "|  YHOO|     11.3|    52.37|2.33872096E8|\n",
      "|   FTR|     3.15|     9.77|  2.231656E8|\n",
      "|  AMAT|      9.7|    33.33|  2.194152E8|\n",
      "|   JCI|    26.55|57.940067|2.19057504E8|\n",
      "|   JPM|    28.25|    87.13|2.17294208E8|\n",
      "|   DAL|     6.44|    52.26|2.06372304E8|\n",
      "|     V|    64.16|   278.29|  2.022308E8|\n",
      "|  INTC|    17.88|     38.1|1.99002592E8|\n",
      "|   CHK|     1.66|35.610004|  1.889664E8|\n",
      "|  EBAY|    19.27|    66.29|1.83556704E8|\n",
      "|  ORCL|    21.46|    46.23|1.83503904E8|\n",
      "|  FOXA|11.889995|    39.01|1.66687104E8|\n",
      "|  HBAN|     3.75|    13.51|1.61746096E8|\n",
      "|    RF|     2.98|    14.64|1.55278208E8|\n",
      "|    MU|      4.2|    36.49|1.53906096E8|\n",
      "|   FCX|     3.77|   121.84|   1.53828E8|\n",
      "|  GILD|     32.0|   122.21|    1.4644E8|\n",
      "|   WFC|    22.91|    58.52|1.44985696E8|\n",
      "|   AAL|     3.99|    55.76|  1.377672E8|\n",
      "|   MET|     26.2|     57.7|  1.349932E8|\n",
      "|  ATVI|     9.97|    45.47|  1.330824E8|\n",
      "|  QCOM|    31.87|     81.6|  1.308922E8|\n",
      "|   SYF|    23.71|    37.26|1.28981904E8|\n",
      "|     T|    24.01|    43.47|1.25998704E8|\n",
      "|    PG|    58.72|    93.46|1.23735696E8|\n",
      "|  ABBV|    33.59|    71.23|  1.227402E8|\n",
      "| DISCA|    23.92|    90.46|  1.191758E8|\n",
      "|   XOM|    56.85|   104.38|1.18023504E8|\n",
      "|   GGP| 8.950003|    31.97|1.16835696E8|\n",
      "|  FITB|     9.27|    27.79|  1.149686E8|\n",
      "|   CSX|    17.86|    80.01|1.10571296E8|\n",
      "|  ADBE|    22.97|   110.81|  1.087524E8|\n",
      "|    MA|    69.79|    843.6|    1.0838E8|\n",
      "|    GS|    88.06|   243.09|1.02043696E8|\n",
      "|   PPL|    24.42|    39.68|  1.016546E8|\n",
      "|   WMB|    11.26|    60.86|   1.01131E8|\n",
      "|    KO|    35.88|    81.12| 9.8967504E7|\n",
      "|   JNJ|    57.25|    125.4|   9.84402E7|\n",
      "|   HAL|    21.98|    74.02| 9.7847904E7|\n",
      "|   DVN|    18.46|     93.1| 9.7177504E7|\n",
      "|   CFG|    18.45|    36.46| 9.4875296E7|\n",
      "|  SPLS|     7.26|    25.93|   9.38706E7|\n",
      "|   SWN|     5.16|    51.65|   9.32932E7|\n",
      "|   BAX|    32.37|     77.0|   9.24056E7|\n",
      "|   RAI|    31.22|    87.96| 9.2190304E7|\n",
      "|   CBS|    12.64|    67.55|   9.00006E7|\n",
      "|   ACN|    36.46|    125.4| 8.9655904E7|\n",
      "|   STX|      9.4|    68.82| 8.9629696E7|\n",
      "|   KEY|      5.6|    18.54|    8.8248E7|\n",
      "|  NVDA|     8.72|   117.32|   8.73328E7|\n",
      "|   GLW|    10.89|     25.0| 8.7157104E7|\n",
      "|   SLB|    53.72|   117.95|   8.71306E7|\n",
      "|   DIS|    28.73|   121.69| 8.7048496E7|\n",
      "|   TEL|    24.16|    73.42| 8.6738496E7|\n",
      "|   NKE|    49.24|   134.33|   8.63396E7|\n",
      "|  COTY|    13.21|    32.68| 8.6269296E7|\n",
      "|   BMY|     22.6|    76.77|   8.62126E7|\n",
      "|    IR|    25.98|    78.75| 8.5426896E7|\n",
      "|   BBY|    11.36|    49.31|    8.5048E7|\n",
      "|   UAA|    24.35|   124.44|   8.43412E7|\n",
      "|   WBA|    26.47|    96.68| 8.4130096E7|\n",
      "| CMCSA|    15.15|    71.02|   8.32698E7|\n",
      "|   COP|    31.23|    86.76| 8.1425296E7|\n",
      "|   HCA|    30.65|    94.81|   8.11484E7|\n",
      "|   WMT|     48.1|    90.47| 8.0898096E7|\n",
      "|   DOW|    21.03|    59.08|   7.98494E7|\n",
      "|    KR|    19.21|    77.24|   7.94286E7|\n",
      "|   XRX|     6.25|    14.32|    7.9286E7|\n",
      "|   ABT|     32.3| 72.12994| 7.8108304E7|\n",
      "|   RIG|     7.88|    93.02| 7.7780096E7|\n",
      "|  ESRX|    35.21|   104.91| 7.7776096E7|\n",
      "|   COG|    15.16|    88.59|   7.61766E7|\n",
      "|  CTSH|    42.99|   107.22|   7.61332E7|\n",
      "|   PNC|    43.16|   118.31| 7.4680896E7|\n",
      "|   MRK|    29.79|    64.96|   7.42944E7|\n",
      "|  MDLZ|    25.03|    46.94|   7.41966E7|\n",
      "|    CB|    47.62|   133.32|   7.32352E7|\n",
      "|  SBUX|    21.66|    97.92|   7.22062E7|\n",
      "|   CTL|    22.37|     46.8|   7.19436E7|\n",
      "|   SYY|    25.29|    56.61| 7.1683904E7|\n",
      "|   TWX|    26.94|    96.74| 6.9744096E7|\n",
      "|   BHI|    36.16|    79.94|   6.96916E7|\n",
      "+------+---------+---------+------------+\n",
      "only showing top 100 rows\n",
      "\n"
     ]
    },
    {
     "data": {
      "text/plain": [
       "file = /home/jovyan/stage/model/prices.txt MapPartitionsRDD[658] at textFile at <console>:178\n",
       "fileToDf = [date: date, symbol: string ... 5 more fields]\n",
       "res = [date: date, symbol: string ... 5 more fields]\n",
       "priceTotal = [symbol: string, minimum: float ... 2 more fields]\n"
      ]
     },
     "metadata": {},
     "output_type": "display_data"
    },
    {
     "data": {
      "text/plain": [
       "[symbol: string, minimum: float ... 2 more fields]"
      ]
     },
     "execution_count": 34,
     "metadata": {},
     "output_type": "execute_result"
    }
   ],
   "source": [
    "\n",
    "import org.apache.spark.sql.functions._\n",
    "// import org.apache.spark.sql.implicits._\n",
    "val file = sc.textFile(\"/home/jovyan/stage/model/prices.txt\")\n",
    "val fileToDf = file.map(_.split(\",\")).map{case Array(a,b,c,d,e,f,g) => \n",
    "( a, b , c.toFloat, d.toFloat, e.toFloat, f.toFloat, g.toFloat)}.toDF(\"date\", \"symbol\", \n",
    "                                                                      \"open\",  \"close\", \"low\",  \"high\",  \"volume\" )\n",
    "\n",
    ".withColumn(\"date\", to_date(unix_timestamp(col(\"date\"), \"yyyy-MM-dd\").cast(\"timestamp\")))\n",
    "\n",
    "// fileToDf.show(1000)\n",
    "\n",
    "fileToDf.write.mode(\"overwrite\").option(\"header\", true).parquet(\"price.parquet\")\n",
    "\n",
    "//  val result = crimeTotal.join(frequent_crime_top, \"DISTRICT\")\n",
    "//       .write.parquet(outputFile)\n",
    "\n",
    "\n",
    "    val res = spark.read.parquet(\"price.parquet\")\n",
    "res.createOrReplaceTempView(\"PRICE\")\n",
    "   val priceTotal = spark.sql(\n",
    "   \"\"\"select  symbol,  min(open) as minimum  , max(close)  as maximum ,  max(volume) as max_value\n",
    "         | from PRICE group by symbol  order by max_value  desc\"\"\".stripMargin)\n",
    " \n",
    "\n",
    "//     .orderBy(asc(\"date\"))\n",
    " \n",
    "priceTotal.show(100)\n",
    "\n",
    "\n",
    "\n",
    "// crimeStatsWithBroadcast.createOrReplaceTempView(\"robWithBro\")\n",
    "//     val crimeTotal = spark.sql(\n",
    "//       \"\"\"select DISTRICT, count(*)  as crimes_total, ceil( count(*)/12 ) as crimes_monthly,\n",
    "//         | avg(Lat) as  lat, avg(Long) as long\n",
    "//         | from robWithBro group by DISTRICT order by crimes_total desc\"\"\".stripMargin)\n",
    "//     res.show(100)\n",
    "\n",
    "//  val modifiedDF = fileToDf\n",
    "// .withColumn(\"date\", to_date(unix_timestamp(fileToDf.col(\"date\"), \"yyyy-MM-dd\").cast(\"timestamp\")))\n",
    "//  .orderBy(asc(\"date\"))\n",
    "\n",
    "// .write.option(\"header\", \"true\").option(\"inferSchema\", \"true\").csv(\"PRICE.csv\")\n",
    "// fileToDf.foreach(println(_))\n"
   ]
  },
  {
   "cell_type": "markdown",
   "metadata": {},
   "source": [
    "# "
   ]
  },
  {
   "cell_type": "code",
   "execution_count": null,
   "metadata": {},
   "outputs": [],
   "source": []
  }
 ],
 "metadata": {
  "kernelspec": {
   "display_name": "Apache Toree - Scala",
   "language": "scala",
   "name": "apache_toree_scala"
  },
  "language_info": {
   "codemirror_mode": "text/x-scala",
   "file_extension": ".scala",
   "mimetype": "text/x-scala",
   "name": "scala",
   "pygments_lexer": "scala",
   "version": "2.11.12"
  }
 },
 "nbformat": 4,
 "nbformat_minor": 2
}
